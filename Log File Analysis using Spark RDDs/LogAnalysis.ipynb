{
 "cells": [
  {
   "cell_type": "code",
   "execution_count": 141,
   "metadata": {},
   "outputs": [],
   "source": [
    "from apachelogs import LogParser\n",
    "from pyspark import SparkContext, SparkConf\n",
    "from pyspark.sql import SparkSession\n",
    "from pyspark.sql.functions import udf"
   ]
  },
  {
   "cell_type": "code",
   "execution_count": 142,
   "metadata": {},
   "outputs": [],
   "source": [
    "sc.stop() # Uncomment to terminate previously running SparkContexts if there are any \n",
    "sc = SparkContext()\n",
    "rdd = sc.textFile(\"logfiles.log\")\n",
    "df = (rdd.filter(lambda x: len(x) > 0))"
   ]
  },
  {
   "cell_type": "code",
   "execution_count": 143,
   "metadata": {},
   "outputs": [],
   "source": [
    "# Partition data into 5 groups based on status \n",
    "informational_1 = df.filter(lambda x: x.split()[8].startswith(\"1\")) # Entries with status 100–199\n",
    "successful_2 = df.filter(lambda x: x.split()[8].startswith(\"2\")) # Entries with status 200–299\n",
    "redirection_3 = df.filter(lambda x: x.split()[8].startswith(\"3\")) # Entries with status 300–399\n",
    "clienterr_4 = df.filter(lambda x: x.split()[8].startswith(\"4\")) # Entries with status 400–499\n",
    "servererr_5 = df.filter(lambda x: x.split()[8].startswith(\"5\")) # Entries with status 500–599"
   ]
  },
  {
   "cell_type": "code",
   "execution_count": 144,
   "metadata": {},
   "outputs": [
    {
     "name": "stderr",
     "output_type": "stream",
     "text": [
      "                                                                                \r"
     ]
    },
    {
     "name": "stdout",
     "output_type": "stream",
     "text": [
      "Informational:  0\n",
      "Successful:  142564\n",
      "Redirection:  285598\n",
      "Client error:  285553\n",
      "Server error:  286285\n"
     ]
    }
   ],
   "source": [
    "# Print number of responses in each category \n",
    "print(\"Informational: \", informational_1.count())\n",
    "print(\"Successful: \", successful_2.count())\n",
    "print(\"Redirection: \", redirection_3.count())\n",
    "print(\"Client error: \", clienterr_4.count())\n",
    "print(\"Server error: \", servererr_5.count())\n"
   ]
  },
  {
   "cell_type": "code",
   "execution_count": 145,
   "metadata": {},
   "outputs": [
    {
     "name": "stderr",
     "output_type": "stream",
     "text": [
      "                                                                                \r"
     ]
    }
   ],
   "source": [
    "# Calculate percentages\n",
    "sum = informational_1.count() + successful_2.count() + redirection_3.count() + clienterr_4.count() + servererr_5.count()\n",
    "percent_1 = informational_1.count() / sum * 100\n",
    "percent_2 = successful_2.count() / sum * 100 \n",
    "percent_3 = redirection_3.count() / sum * 100 \n",
    "percent_4 = clienterr_4.count() / sum * 100 \n",
    "percent_5 = servererr_5.count() / sum * 100 "
   ]
  },
  {
   "cell_type": "code",
   "execution_count": 146,
   "metadata": {},
   "outputs": [
    {
     "name": "stdout",
     "output_type": "stream",
     "text": [
      "Informational:  0.0 %\n",
      "Successful:  14.2564 %\n",
      "Redirection:  28.559800000000003 %\n",
      "Client error:  28.5553 %\n",
      "Server error:  28.628500000000003 %\n"
     ]
    }
   ],
   "source": [
    "# Print percentage by response category \n",
    "print(\"Informational: \", percent_1, \"%\")\n",
    "print(\"Successful: \", percent_2, \"%\")\n",
    "print(\"Redirection: \", percent_3, \"%\")\n",
    "print(\"Client error: \", percent_4, \"%\")\n",
    "print(\"Server error: \", percent_5, \"%\")"
   ]
  },
  {
   "cell_type": "markdown",
   "metadata": {},
   "source": [
    "### Top 5 IP addresses generating client error"
   ]
  },
  {
   "cell_type": "code",
   "execution_count": 147,
   "metadata": {},
   "outputs": [
    {
     "name": "stderr",
     "output_type": "stream",
     "text": [
      "                                                                                \r"
     ]
    },
    {
     "data": {
      "text/plain": [
       "[('122.155.216.51', 2),\n",
       " ('175.115.37.123', 2),\n",
       " ('40.237.64.134', 2),\n",
       " ('32.188.156.161', 2),\n",
       " ('133.203.25.240', 2)]"
      ]
     },
     "execution_count": 147,
     "metadata": {},
     "output_type": "execute_result"
    }
   ],
   "source": [
    "ID_client_err = clienterr_4.map(lambda x: x.split()[0]) # Get IP only \n",
    "ip_count = ID_client_err.map(lambda x: (x, 1)) # Mapper (add count)\n",
    "ip_count = ip_count.reduceByKey(lambda x, y: x + y) # Reducer \n",
    "ip_most = ip_count.sortBy(lambda x: x[1], False) # Sort by descending count\n",
    "ip_most.take(5) # Show top 5 "
   ]
  }
 ],
 "metadata": {
  "kernelspec": {
   "display_name": "Python 3.9.16 ('base')",
   "language": "python",
   "name": "python3"
  },
  "language_info": {
   "codemirror_mode": {
    "name": "ipython",
    "version": 3
   },
   "file_extension": ".py",
   "mimetype": "text/x-python",
   "name": "python",
   "nbconvert_exporter": "python",
   "pygments_lexer": "ipython3",
   "version": "3.9.16"
  },
  "orig_nbformat": 4,
  "vscode": {
   "interpreter": {
    "hash": "6cc7239228f96f60021c839d45e73f0469089d31d4a341e8e753c0ae0a151559"
   }
  }
 },
 "nbformat": 4,
 "nbformat_minor": 2
}

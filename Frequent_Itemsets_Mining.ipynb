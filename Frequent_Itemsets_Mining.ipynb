{
  "nbformat": 4,
  "nbformat_minor": 0,
  "metadata": {
    "colab": {
      "provenance": []
    },
    "kernelspec": {
      "name": "python3",
      "display_name": "Python 3"
    }
  },
  "cells": [
    {
      "metadata": {
        "id": "sq8U3BtmhtRx"
      },
      "cell_type": "markdown",
      "source": [
        "\n",
        "# **Frequent Itemsets with PySpark in Colab**\n",
        "\n",
        "To run spark in Colab, we need to first install all the dependencies in Colab environment i.e. Apache Spark 2.3.2 with hadoop 2.7, Java 8 and Findspark to locate the spark in the system.\n",
        "\n",
        "Follow the steps to install the dependencies:"
      ]
    },
    {
      "metadata": {
        "id": "lh5NCoc8fsSO"
      },
      "cell_type": "code",
      "source": [
        "!apt-get install openjdk-8-jdk-headless -qq > /dev/null"
      ],
      "execution_count": 144,
      "outputs": []
    },
    {
      "cell_type": "code",
      "source": [
        "!wget -qN https://archive.apache.org/dist/spark/spark-3.2.1/spark-3.2.1-bin-hadoop3.2.tgz\n",
        "!tar xf spark-3.2.1-bin-hadoop3.2.tgz"
      ],
      "metadata": {
        "id": "kpXBmifOrYgd"
      },
      "execution_count": 145,
      "outputs": []
    },
    {
      "cell_type": "code",
      "source": [
        "!pip install -q findspark"
      ],
      "metadata": {
        "id": "N5w85-Vaq3ow"
      },
      "execution_count": 146,
      "outputs": []
    },
    {
      "metadata": {
        "id": "ILheUROOhprv"
      },
      "cell_type": "markdown",
      "source": [
        "Set the location of Java and Spark by running the following code:"
      ]
    },
    {
      "cell_type": "code",
      "source": [
        "import os\n",
        "os.environ[\"JAVA_HOME\"] = \"/usr/lib/jvm/java-8-openjdk-amd64\"\n",
        "os.environ[\"SPARK_HOME\"] = \"spark-3.2.1-bin-hadoop3.2\""
      ],
      "metadata": {
        "id": "7kaCVU3At7XT"
      },
      "execution_count": 147,
      "outputs": []
    },
    {
      "metadata": {
        "id": "KwrqMk3HiMiE"
      },
      "cell_type": "markdown",
      "source": [
        "Install PySpark and run a local spark session to test the installation:"
      ]
    },
    {
      "cell_type": "code",
      "source": [
        "!pip install pyspark"
      ],
      "metadata": {
        "colab": {
          "base_uri": "https://localhost:8080/"
        },
        "id": "3qus-2l0zlSu",
        "outputId": "7a3e5452-51d8-49d5-e4ef-031e351355e6"
      },
      "execution_count": 148,
      "outputs": [
        {
          "output_type": "stream",
          "name": "stdout",
          "text": [
            "Looking in indexes: https://pypi.org/simple, https://us-python.pkg.dev/colab-wheels/public/simple/\n",
            "Requirement already satisfied: pyspark in /usr/local/lib/python3.10/dist-packages (3.4.1)\n",
            "Requirement already satisfied: py4j==0.10.9.7 in /usr/local/lib/python3.10/dist-packages (from pyspark) (0.10.9.7)\n"
          ]
        }
      ]
    },
    {
      "metadata": {
        "id": "9_Uz1NL4gHFx"
      },
      "cell_type": "code",
      "source": [
        "import findspark\n",
        "findspark.init()\n",
        "from pyspark.sql import SparkSession\n",
        "spark = SparkSession.builder.master(\"local[*]\").getOrCreate()\n",
        "sc = spark.sparkContext"
      ],
      "execution_count": 149,
      "outputs": []
    },
    {
      "metadata": {
        "id": "JEb4HTRwiaJx"
      },
      "cell_type": "markdown",
      "source": [
        "Let's create a spark DataFrame to confirm that we can run PySpark, and preload that DataFrame with test baskets.\n",
        "\n",
        "| Transaction ID | Stock Items |\n",
        "|:--------------:|:---------------- |\n",
        "| 100 | milk, coke, beer |\n",
        "| 200 | milk, pepsi, juice |\n",
        "| 300 | milk, beer |\n",
        "| 400 | coke, juice |\n",
        "| 500 | milk, pepsi, beer |\n",
        "| 600 | milk, coke, beer, juice |\n",
        "| 700 | coke, beer, juice |\n",
        "| 800 | beer, coke |\n",
        "\n",
        "Each DataFrame row is `<Transaction ID, [Stock Items]>`"
      ]
    },
    {
      "cell_type": "code",
      "source": [
        "import numpy as np"
      ],
      "metadata": {
        "id": "DafVmNZhKV15"
      },
      "execution_count": 150,
      "outputs": []
    },
    {
      "cell_type": "code",
      "source": [
        "m,c,b,p,j = 12,3,2,15,9\n",
        "basket_df = spark.createDataFrame([\n",
        "    (100, [m,c,b]),\n",
        "    (200, [m,p,j]),\n",
        "    (300, [m,b]),\n",
        "    (400, [c,j]),\n",
        "    (500, [m,p,b]),\n",
        "    (600, [m,c,b,j]),\n",
        "    (700, [c,b,j]),\n",
        "    (800, [b,c])\n",
        "], [\"id\", \"items\"])\n",
        "basket_df.show()\n",
        "stockIDs = {b: 'Beer', c: 'Coke', m: 'Milk', j: 'Juice', p: 'Pepsi'}"
      ],
      "metadata": {
        "colab": {
          "base_uri": "https://localhost:8080/"
        },
        "id": "GrGZXM3aprAT",
        "outputId": "cfd1822f-5146-443c-bccd-b0d4f9e59516"
      },
      "execution_count": 151,
      "outputs": [
        {
          "output_type": "stream",
          "name": "stdout",
          "text": [
            "+---+-------------+\n",
            "| id|        items|\n",
            "+---+-------------+\n",
            "|100|   [12, 3, 2]|\n",
            "|200|  [12, 15, 9]|\n",
            "|300|      [12, 2]|\n",
            "|400|       [3, 9]|\n",
            "|500|  [12, 15, 2]|\n",
            "|600|[12, 3, 2, 9]|\n",
            "|700|    [3, 2, 9]|\n",
            "|800|       [2, 3]|\n",
            "+---+-------------+\n",
            "\n"
          ]
        }
      ]
    },
    {
      "cell_type": "markdown",
      "source": [
        "<hr>\n",
        "\n",
        "# PySpark Code"
      ],
      "metadata": {
        "id": "MCcjB0cArFhD"
      }
    },
    {
      "cell_type": "markdown",
      "source": [
        "## FP-Growth Algorithm\n",
        "\n",
        "References:\n",
        "\n",
        "* PySpark [introduction for FP-Growth](https://spark.apache.org/docs/latest/ml-frequent-pattern-mining.html#fp-growth).\n",
        "* [PySpark Dataframes](https://sparkbyexamples.com/pyspark/convert-pandas-to-pyspark-dataframe/)\n",
        "\n",
        "First, run FP-Growth example from the documentation"
      ],
      "metadata": {
        "id": "bAphm69L0W6j"
      }
    },
    {
      "cell_type": "code",
      "source": [
        "from pyspark.ml.fpm import FPGrowth\n",
        "\n",
        "fpGrowth = FPGrowth(itemsCol=\"items\", minSupport=0.5, minConfidence=0.6)\n",
        "model = fpGrowth.fit(basket_df)\n",
        "\n",
        "# Display generated association rules.\n",
        "model.associationRules.show()"
      ],
      "metadata": {
        "colab": {
          "base_uri": "https://localhost:8080/"
        },
        "id": "Up3RctnGqS1x",
        "outputId": "1c6504d4-ca09-4898-a686-426bfba63754"
      },
      "execution_count": 152,
      "outputs": [
        {
          "output_type": "stream",
          "name": "stderr",
          "text": [
            "/content/spark-3.2.1-bin-hadoop3.2/python/pyspark/sql/context.py:125: FutureWarning: Deprecated in 3.0.0. Use SparkSession.builder.getOrCreate() instead.\n",
            "  warnings.warn(\n"
          ]
        },
        {
          "output_type": "stream",
          "name": "stdout",
          "text": [
            "+----------+----------+------------------+------------------+-------+\n",
            "|antecedent|consequent|        confidence|              lift|support|\n",
            "+----------+----------+------------------+------------------+-------+\n",
            "|       [3]|       [2]|               0.8|1.0666666666666667|    0.5|\n",
            "|      [12]|       [2]|               0.8|1.0666666666666667|    0.5|\n",
            "|       [2]|       [3]|0.6666666666666666|1.0666666666666667|    0.5|\n",
            "|       [2]|      [12]|0.6666666666666666|1.0666666666666667|    0.5|\n",
            "+----------+----------+------------------+------------------+-------+\n",
            "\n"
          ]
        }
      ]
    },
    {
      "cell_type": "markdown",
      "source": [
        "## 1. Interpreting association rules\n",
        "\n",
        "The above table, has columns antecedent, consequent, confidence, lift and support.\n"
      ],
      "metadata": {
        "id": "zBSDgi5wbY4g"
      }
    },
    {
      "cell_type": "markdown",
      "source": [
        "#### Association Rules with changed minSupport and minConfidence values\n",
        "\n",
        "Modify the support threshold to be 0.375 and minimum confidence to be 0.75."
      ],
      "metadata": {
        "id": "nl7NM8o7VXUX"
      }
    },
    {
      "cell_type": "code",
      "source": [
        "from pyspark.ml.fpm import FPGrowth\n",
        "\n",
        "fpGrowth = FPGrowth(itemsCol=\"items\", minSupport=0.375, minConfidence=0.75)\n",
        "model = fpGrowth.fit(basket_df)\n",
        "\n",
        "# Display frequent itemsets.\n",
        "model.freqItemsets.show()\n",
        "\n",
        "# Display generated association rules.\n",
        "model.associationRules.show()"
      ],
      "metadata": {
        "colab": {
          "base_uri": "https://localhost:8080/"
        },
        "id": "b_069trsP92i",
        "outputId": "0d03abf4-cb33-4e83-ba49-af838cf4c409"
      },
      "execution_count": 153,
      "outputs": [
        {
          "output_type": "stream",
          "name": "stdout",
          "text": [
            "+-------+----+\n",
            "|  items|freq|\n",
            "+-------+----+\n",
            "|    [3]|   5|\n",
            "| [3, 2]|   4|\n",
            "|    [2]|   6|\n",
            "|   [12]|   5|\n",
            "|[12, 2]|   4|\n",
            "|    [9]|   4|\n",
            "| [9, 3]|   3|\n",
            "+-------+----+\n",
            "\n",
            "+----------+----------+----------+------------------+-------+\n",
            "|antecedent|consequent|confidence|              lift|support|\n",
            "+----------+----------+----------+------------------+-------+\n",
            "|       [3]|       [2]|       0.8|1.0666666666666667|    0.5|\n",
            "|      [12]|       [2]|       0.8|1.0666666666666667|    0.5|\n",
            "|       [9]|       [3]|      0.75|               1.2|  0.375|\n",
            "+----------+----------+----------+------------------+-------+\n",
            "\n"
          ]
        }
      ]
    },
    {
      "cell_type": "markdown",
      "source": [
        "## 2. New association rules\n",
        "The third row of the result shows a low support (0.375) and a high lift (1.2).\n"
      ],
      "metadata": {
        "id": "z1WhTmNgswT6"
      }
    },
    {
      "cell_type": "markdown",
      "source": [
        "## 3. Association Rules for an Online Retail Dataset\n",
        "\n",
        "Here we process a sampled dataset from a UK-based online retailer. We'll be working with a 8050 record subset.\n",
        "\n",
        "* Read in the data from the dataset `online_retail_III.csv`.\n",
        "* There are a couple of wrinkles to keep in mind:\n",
        "    * An invoice represents a shopping cart and it can contain multiple items.\n",
        "    * Some invoice numbers start with a \"C.\" Invoice number C123456 is to be interpreted as a return of items in invoice 123456. The `inum` column represents the Invoice number as well as the credit (return). In other words, Invoice numbers `123456` and `C123456` would have `inum` == 123456."
      ],
      "metadata": {
        "id": "b6CJFLmSHSGS"
      }
    },
    {
      "cell_type": "code",
      "source": [
        "import pandas as pd\n",
        "\n",
        "df_orig = pd.read_csv('https://storage.googleapis.com/singhj-public-data/online_retail_II.csv')\n",
        "df_orig.dropna(inplace=True)\n",
        "df_orig.head()"
      ],
      "metadata": {
        "id": "C_Z7_CykAtJg",
        "colab": {
          "base_uri": "https://localhost:8080/",
          "height": 384
        },
        "outputId": "745408c6-a7f8-479a-9060-e614ffc3d532"
      },
      "execution_count": 154,
      "outputs": [
        {
          "output_type": "execute_result",
          "data": {
            "text/plain": [
              "  Invoice StockCode                          Description  Quantity  \\\n",
              "0  489434     85048  15CM CHRISTMAS GLASS BALL 20 LIGHTS        12   \n",
              "1  489434    79323P                   PINK CHERRY LIGHTS        12   \n",
              "2  489434    79323W                  WHITE CHERRY LIGHTS        12   \n",
              "3  489434     22041         RECORD FRAME 7\" SINGLE SIZE         48   \n",
              "4  489434     21232       STRAWBERRY CERAMIC TRINKET BOX        24   \n",
              "\n",
              "           InvoiceDate  Price  Customer ID         Country  \n",
              "0  2009-12-01 07:45:00   6.95      13085.0  United Kingdom  \n",
              "1  2009-12-01 07:45:00   6.75      13085.0  United Kingdom  \n",
              "2  2009-12-01 07:45:00   6.75      13085.0  United Kingdom  \n",
              "3  2009-12-01 07:45:00   2.10      13085.0  United Kingdom  \n",
              "4  2009-12-01 07:45:00   1.25      13085.0  United Kingdom  "
            ],
            "text/html": [
              "\n",
              "  <div id=\"df-e329317b-d8af-4781-9950-097f038800eb\">\n",
              "    <div class=\"colab-df-container\">\n",
              "      <div>\n",
              "<style scoped>\n",
              "    .dataframe tbody tr th:only-of-type {\n",
              "        vertical-align: middle;\n",
              "    }\n",
              "\n",
              "    .dataframe tbody tr th {\n",
              "        vertical-align: top;\n",
              "    }\n",
              "\n",
              "    .dataframe thead th {\n",
              "        text-align: right;\n",
              "    }\n",
              "</style>\n",
              "<table border=\"1\" class=\"dataframe\">\n",
              "  <thead>\n",
              "    <tr style=\"text-align: right;\">\n",
              "      <th></th>\n",
              "      <th>Invoice</th>\n",
              "      <th>StockCode</th>\n",
              "      <th>Description</th>\n",
              "      <th>Quantity</th>\n",
              "      <th>InvoiceDate</th>\n",
              "      <th>Price</th>\n",
              "      <th>Customer ID</th>\n",
              "      <th>Country</th>\n",
              "    </tr>\n",
              "  </thead>\n",
              "  <tbody>\n",
              "    <tr>\n",
              "      <th>0</th>\n",
              "      <td>489434</td>\n",
              "      <td>85048</td>\n",
              "      <td>15CM CHRISTMAS GLASS BALL 20 LIGHTS</td>\n",
              "      <td>12</td>\n",
              "      <td>2009-12-01 07:45:00</td>\n",
              "      <td>6.95</td>\n",
              "      <td>13085.0</td>\n",
              "      <td>United Kingdom</td>\n",
              "    </tr>\n",
              "    <tr>\n",
              "      <th>1</th>\n",
              "      <td>489434</td>\n",
              "      <td>79323P</td>\n",
              "      <td>PINK CHERRY LIGHTS</td>\n",
              "      <td>12</td>\n",
              "      <td>2009-12-01 07:45:00</td>\n",
              "      <td>6.75</td>\n",
              "      <td>13085.0</td>\n",
              "      <td>United Kingdom</td>\n",
              "    </tr>\n",
              "    <tr>\n",
              "      <th>2</th>\n",
              "      <td>489434</td>\n",
              "      <td>79323W</td>\n",
              "      <td>WHITE CHERRY LIGHTS</td>\n",
              "      <td>12</td>\n",
              "      <td>2009-12-01 07:45:00</td>\n",
              "      <td>6.75</td>\n",
              "      <td>13085.0</td>\n",
              "      <td>United Kingdom</td>\n",
              "    </tr>\n",
              "    <tr>\n",
              "      <th>3</th>\n",
              "      <td>489434</td>\n",
              "      <td>22041</td>\n",
              "      <td>RECORD FRAME 7\" SINGLE SIZE</td>\n",
              "      <td>48</td>\n",
              "      <td>2009-12-01 07:45:00</td>\n",
              "      <td>2.10</td>\n",
              "      <td>13085.0</td>\n",
              "      <td>United Kingdom</td>\n",
              "    </tr>\n",
              "    <tr>\n",
              "      <th>4</th>\n",
              "      <td>489434</td>\n",
              "      <td>21232</td>\n",
              "      <td>STRAWBERRY CERAMIC TRINKET BOX</td>\n",
              "      <td>24</td>\n",
              "      <td>2009-12-01 07:45:00</td>\n",
              "      <td>1.25</td>\n",
              "      <td>13085.0</td>\n",
              "      <td>United Kingdom</td>\n",
              "    </tr>\n",
              "  </tbody>\n",
              "</table>\n",
              "</div>\n",
              "      <button class=\"colab-df-convert\" onclick=\"convertToInteractive('df-e329317b-d8af-4781-9950-097f038800eb')\"\n",
              "              title=\"Convert this dataframe to an interactive table.\"\n",
              "              style=\"display:none;\">\n",
              "        \n",
              "  <svg xmlns=\"http://www.w3.org/2000/svg\" height=\"24px\"viewBox=\"0 0 24 24\"\n",
              "       width=\"24px\">\n",
              "    <path d=\"M0 0h24v24H0V0z\" fill=\"none\"/>\n",
              "    <path d=\"M18.56 5.44l.94 2.06.94-2.06 2.06-.94-2.06-.94-.94-2.06-.94 2.06-2.06.94zm-11 1L8.5 8.5l.94-2.06 2.06-.94-2.06-.94L8.5 2.5l-.94 2.06-2.06.94zm10 10l.94 2.06.94-2.06 2.06-.94-2.06-.94-.94-2.06-.94 2.06-2.06.94z\"/><path d=\"M17.41 7.96l-1.37-1.37c-.4-.4-.92-.59-1.43-.59-.52 0-1.04.2-1.43.59L10.3 9.45l-7.72 7.72c-.78.78-.78 2.05 0 2.83L4 21.41c.39.39.9.59 1.41.59.51 0 1.02-.2 1.41-.59l7.78-7.78 2.81-2.81c.8-.78.8-2.07 0-2.86zM5.41 20L4 18.59l7.72-7.72 1.47 1.35L5.41 20z\"/>\n",
              "  </svg>\n",
              "      </button>\n",
              "      \n",
              "  <style>\n",
              "    .colab-df-container {\n",
              "      display:flex;\n",
              "      flex-wrap:wrap;\n",
              "      gap: 12px;\n",
              "    }\n",
              "\n",
              "    .colab-df-convert {\n",
              "      background-color: #E8F0FE;\n",
              "      border: none;\n",
              "      border-radius: 50%;\n",
              "      cursor: pointer;\n",
              "      display: none;\n",
              "      fill: #1967D2;\n",
              "      height: 32px;\n",
              "      padding: 0 0 0 0;\n",
              "      width: 32px;\n",
              "    }\n",
              "\n",
              "    .colab-df-convert:hover {\n",
              "      background-color: #E2EBFA;\n",
              "      box-shadow: 0px 1px 2px rgba(60, 64, 67, 0.3), 0px 1px 3px 1px rgba(60, 64, 67, 0.15);\n",
              "      fill: #174EA6;\n",
              "    }\n",
              "\n",
              "    [theme=dark] .colab-df-convert {\n",
              "      background-color: #3B4455;\n",
              "      fill: #D2E3FC;\n",
              "    }\n",
              "\n",
              "    [theme=dark] .colab-df-convert:hover {\n",
              "      background-color: #434B5C;\n",
              "      box-shadow: 0px 1px 3px 1px rgba(0, 0, 0, 0.15);\n",
              "      filter: drop-shadow(0px 1px 2px rgba(0, 0, 0, 0.3));\n",
              "      fill: #FFFFFF;\n",
              "    }\n",
              "  </style>\n",
              "\n",
              "      <script>\n",
              "        const buttonEl =\n",
              "          document.querySelector('#df-e329317b-d8af-4781-9950-097f038800eb button.colab-df-convert');\n",
              "        buttonEl.style.display =\n",
              "          google.colab.kernel.accessAllowed ? 'block' : 'none';\n",
              "\n",
              "        async function convertToInteractive(key) {\n",
              "          const element = document.querySelector('#df-e329317b-d8af-4781-9950-097f038800eb');\n",
              "          const dataTable =\n",
              "            await google.colab.kernel.invokeFunction('convertToInteractive',\n",
              "                                                     [key], {});\n",
              "          if (!dataTable) return;\n",
              "\n",
              "          const docLinkHtml = 'Like what you see? Visit the ' +\n",
              "            '<a target=\"_blank\" href=https://colab.research.google.com/notebooks/data_table.ipynb>data table notebook</a>'\n",
              "            + ' to learn more about interactive tables.';\n",
              "          element.innerHTML = '';\n",
              "          dataTable['output_type'] = 'display_data';\n",
              "          await google.colab.output.renderOutput(dataTable, element);\n",
              "          const docLink = document.createElement('div');\n",
              "          docLink.innerHTML = docLinkHtml;\n",
              "          element.appendChild(docLink);\n",
              "        }\n",
              "      </script>\n",
              "    </div>\n",
              "  </div>\n",
              "  "
            ]
          },
          "metadata": {},
          "execution_count": 154
        }
      ]
    },
    {
      "cell_type": "markdown",
      "source": [
        "### Data Scrubbing\n",
        "\n",
        "Remove the rows we should filter away. They aren't necessarily visible in the summary view but we know they exist.\n",
        "\n",
        "* StockCode `POST`,\n",
        "* StockCode `M`.\n"
      ],
      "metadata": {
        "id": "kAtggDnE725r"
      }
    },
    {
      "cell_type": "code",
      "source": [
        "df = df_orig[(df_orig[\"StockCode\"]!=\"POST\") & (df_orig[\"StockCode\"]!=\"M\")]"
      ],
      "metadata": {
        "id": "H7kjTflFQjT_"
      },
      "execution_count": 155,
      "outputs": []
    },
    {
      "cell_type": "markdown",
      "source": [
        "## 4. Connecting Online Retail Data to FP-Growth\n",
        "\n",
        "Adapt the DataFrame to look like `df_basket` above.\n",
        "* `df_orig` is a Pandas DataFrame whereas `df_basket`-equivalent will have to be Spark DataFrames.\n",
        "* `Invoice` and `StockCode` are strings but FP-Growth needs inputs to be integers. You'd need to map strings to integers before feeding them to FP-Growth and convert the resulting antecedents and consequents back."
      ],
      "metadata": {
        "id": "9jdR6LtBLY9Y"
      }
    },
    {
      "cell_type": "markdown",
      "source": [
        "### Establish the mapping between Invoice IDs, StockCodes and unique integers."
      ],
      "metadata": {
        "id": "GbQDy_QwRE3Z"
      }
    },
    {
      "cell_type": "code",
      "source": [
        "# Create function for mapping lists of stockCodes.\n",
        "def stock_code_to_index(list):\n",
        "  idx_list = []\n",
        "  for i in list:\n",
        "    idx_list.append(item_idx[i])\n",
        "\n",
        "  return idx_list\n",
        "\n",
        "def stock_index_to_code(list):\n",
        "  idx_list = []\n",
        "  for i in list:\n",
        "    idx_list.append(item_codes[i])\n",
        "\n",
        "  return idx_list\n",
        "\n",
        "# inv_baskets stores multiple items (stock codes) in one basket (invoice)\n",
        "inv_baskets = df.groupby(\"Invoice\")\n",
        "inv_baskets = inv_baskets[\"StockCode\"].agg(lambda x: list(set(x))).reset_index(name='StockCode')\n",
        "\n",
        "# Conversely, create each item and list all baskets it appears in\n",
        "item = df.groupby(\"StockCode\")\n",
        "item = item[\"Invoice\"].agg(lambda x: list(set(x))).reset_index(name='Invoice')\n",
        "\n",
        "# Map each item and each basket to their unique index codes\n",
        "inv_key = inv_baskets[\"Invoice\"]\n",
        "inv_value = range(len(inv_key))\n",
        "inv_idx = dict(zip(inv_key, inv_value))\n",
        "\n",
        "item_key = item[\"StockCode\"]\n",
        "item_value = range(len(item_key))\n",
        "item_idx = dict(zip(item_key, item_value))\n",
        "item_codes = dict(zip(item_value, item_key))\n",
        "\n",
        "# Convert table of strings into table of integer codes\n",
        "inv_baskets[\"Invoice\"] = inv_baskets[\"Invoice\"].map(lambda x: inv_idx[x])\n",
        "inv_baskets[\"StockCode\"] = inv_baskets[\"StockCode\"].map(lambda x: stock_code_to_index(x))\n",
        "\n",
        "invoice_df = spark.createDataFrame(inv_baskets)"
      ],
      "metadata": {
        "colab": {
          "base_uri": "https://localhost:8080/"
        },
        "id": "6KO5IVU-RmuR",
        "outputId": "ebd8e235-d5a4-4ed9-8a5a-dca1aa1d2a19"
      },
      "execution_count": 156,
      "outputs": [
        {
          "output_type": "stream",
          "name": "stderr",
          "text": [
            "/content/spark-3.2.1-bin-hadoop3.2/python/pyspark/sql/pandas/conversion.py:371: FutureWarning: iteritems is deprecated and will be removed in a future version. Use .items instead.\n",
            "  for column, series in pdf.iteritems():\n"
          ]
        }
      ]
    },
    {
      "cell_type": "markdown",
      "source": [
        "## 5. Fine-tuning FP-Growth runs\n",
        "\n",
        "* Set `minConfidence` = 0.75.\n",
        "* Set `minSupport` such that the total number of association rules is between 10 and 20. (If `minSupport` is small, the number of association rules will increase. As it increases, the number of association rules will decrease.).\n",
        "\n"
      ],
      "metadata": {
        "id": "veYgGCzyXa6l"
      }
    },
    {
      "cell_type": "code",
      "source": [
        "fpGrowth_2 = FPGrowth(itemsCol=\"StockCode\", minSupport=0.01, minConfidence=0.75)\n",
        "model_2 = fpGrowth_2.fit(invoice_df)\n",
        "\n",
        "# Display generated association rules.\n",
        "model_2.associationRules.show()"
      ],
      "metadata": {
        "colab": {
          "base_uri": "https://localhost:8080/"
        },
        "id": "eFKQnxa-hTjA",
        "outputId": "7d2267d4-cf9d-49bd-fb9c-779ee423db2c"
      },
      "execution_count": 157,
      "outputs": [
        {
          "output_type": "stream",
          "name": "stderr",
          "text": [
            "/content/spark-3.2.1-bin-hadoop3.2/python/pyspark/sql/context.py:125: FutureWarning: Deprecated in 3.0.0. Use SparkSession.builder.getOrCreate() instead.\n",
            "  warnings.warn(\n"
          ]
        },
        {
          "output_type": "stream",
          "name": "stdout",
          "text": [
            "+------------+----------+------------------+------------------+--------------------+\n",
            "|  antecedent|consequent|        confidence|              lift|             support|\n",
            "+------------+----------+------------------+------------------+--------------------+\n",
            "|       [534]|     [532]|0.8023255813953488| 47.69139879182447|0.010936261745726254|\n",
            "|      [1879]|    [1881]|0.7709163346613546|30.103907975524958| 0.01752518962979735|\n",
            "|[1879, 1617]|    [1881]|0.8330241187384044|32.529186741009404|0.010166421374391487|\n",
            "|      [1880]|    [1879]|0.8154613466334164|  35.8713649144072|0.014808105966262877|\n",
            "|      [1880]|    [1881]|0.7793017456359103|30.431354196295295|0.014151477414242046|\n",
            "|      [3385]|    [3384]|0.7544097693351425| 35.63476733977173|0.012589154307709726|\n",
            "|[1880, 1879]|    [1881]|0.8440366972477065|32.959222576432325|0.012498584852258576|\n",
            "|[1880, 1881]|    [1879]|            0.8832| 38.85112350597609|0.012498584852258576|\n",
            "|[4073, 1586]|    [4071]|0.7538940809968847| 9.959836101473948|0.010958904109589041|\n",
            "|      [1929]|    [1926]|0.7641357027463651| 60.37218839319001|0.010709838107098382|\n",
            "|      [1926]|    [1929]|0.8461538461538461| 60.37218839319001|0.010709838107098382|\n",
            "|       [504]|     [511]|            0.7872| 49.88047058823529| 0.01114004302049134|\n",
            "+------------+----------+------------------+------------------+--------------------+\n",
            "\n"
          ]
        }
      ]
    },
    {
      "cell_type": "markdown",
      "source": [
        "## 6. Final Association Rules\n",
        "\n",
        "Present the resulting Association Rules in terms of the original StockCodes and Descriptions, in descending order of lift."
      ],
      "metadata": {
        "id": "HRO1n42GX3Be"
      }
    },
    {
      "cell_type": "code",
      "source": [
        "rules_by_lift = model_2.associationRules.orderBy(\"lift\", ascending=False)\n",
        "rules_by_lift.show()"
      ],
      "metadata": {
        "colab": {
          "base_uri": "https://localhost:8080/"
        },
        "id": "gplfw0P9h57X",
        "outputId": "61d80e3a-5f6a-4f09-84ef-a903cc2c3fbb"
      },
      "execution_count": 158,
      "outputs": [
        {
          "output_type": "stream",
          "name": "stdout",
          "text": [
            "+------------+----------+------------------+------------------+--------------------+\n",
            "|  antecedent|consequent|        confidence|              lift|             support|\n",
            "+------------+----------+------------------+------------------+--------------------+\n",
            "|      [1929]|    [1926]|0.7641357027463651| 60.37218839319001|0.010709838107098382|\n",
            "|      [1926]|    [1929]|0.8461538461538461| 60.37218839319001|0.010709838107098382|\n",
            "|       [504]|     [511]|            0.7872| 49.88047058823529| 0.01114004302049134|\n",
            "|       [534]|     [532]|0.8023255813953488| 47.69139879182447|0.010936261745726254|\n",
            "|[1880, 1881]|    [1879]|            0.8832| 38.85112350597609|0.012498584852258576|\n",
            "|      [1880]|    [1879]|0.8154613466334164|  35.8713649144072|0.014808105966262877|\n",
            "|      [3385]|    [3384]|0.7544097693351425| 35.63476733977173|0.012589154307709726|\n",
            "|[1880, 1879]|    [1881]|0.8440366972477065|32.959222576432325|0.012498584852258576|\n",
            "|[1879, 1617]|    [1881]|0.8330241187384044|32.529186741009404|0.010166421374391487|\n",
            "|      [1880]|    [1881]|0.7793017456359103|30.431354196295295|0.014151477414242046|\n",
            "|      [1879]|    [1881]|0.7709163346613546|30.103907975524958| 0.01752518962979735|\n",
            "|[4073, 1586]|    [4071]|0.7538940809968847| 9.959836101473948|0.010958904109589041|\n",
            "+------------+----------+------------------+------------------+--------------------+\n",
            "\n"
          ]
        }
      ]
    },
    {
      "cell_type": "code",
      "source": [
        "# Convert integer indexes back to original codes\n",
        "rules_pd = rules_by_lift.toPandas()\n",
        "rules_pd[\"antecedent\"] = rules_pd[\"antecedent\"].map(lambda x: stock_index_to_code(x))\n",
        "rules_pd[\"consequent\"] = rules_pd[\"consequent\"].map(lambda x: stock_index_to_code(x))\n",
        "rules_pd"
      ],
      "metadata": {
        "colab": {
          "base_uri": "https://localhost:8080/",
          "height": 421
        },
        "id": "lIKu-bpTiVML",
        "outputId": "7c0aa814-9776-429f-c9b4-e668e949c9eb"
      },
      "execution_count": 159,
      "outputs": [
        {
          "output_type": "execute_result",
          "data": {
            "text/plain": [
              "         antecedent consequent  confidence       lift   support\n",
              "0           [22748]    [22745]    0.764136  60.372188  0.010710\n",
              "1           [22745]    [22748]    0.846154  60.372188  0.010710\n",
              "2           [21086]    [21094]    0.787200  49.880471  0.011140\n",
              "3           [21124]    [21122]    0.802326  47.691399  0.010936\n",
              "4    [22698, 22699]    [22697]    0.883200  38.851124  0.012499\n",
              "5           [22698]    [22697]    0.815461  35.871365  0.014808\n",
              "6           [82581]    [82580]    0.754410  35.634767  0.012589\n",
              "7    [22698, 22697]    [22699]    0.844037  32.959223  0.012499\n",
              "8    [22697, 22423]    [22699]    0.833024  32.529187  0.010166\n",
              "9           [22698]    [22699]    0.779302  30.431354  0.014151\n",
              "10          [22697]    [22699]    0.770916  30.103908  0.017525\n",
              "11  [85099F, 22386]   [85099B]    0.753894   9.959836  0.010959"
            ],
            "text/html": [
              "\n",
              "  <div id=\"df-cde5588f-1488-44c0-8c70-d6e598d6233d\">\n",
              "    <div class=\"colab-df-container\">\n",
              "      <div>\n",
              "<style scoped>\n",
              "    .dataframe tbody tr th:only-of-type {\n",
              "        vertical-align: middle;\n",
              "    }\n",
              "\n",
              "    .dataframe tbody tr th {\n",
              "        vertical-align: top;\n",
              "    }\n",
              "\n",
              "    .dataframe thead th {\n",
              "        text-align: right;\n",
              "    }\n",
              "</style>\n",
              "<table border=\"1\" class=\"dataframe\">\n",
              "  <thead>\n",
              "    <tr style=\"text-align: right;\">\n",
              "      <th></th>\n",
              "      <th>antecedent</th>\n",
              "      <th>consequent</th>\n",
              "      <th>confidence</th>\n",
              "      <th>lift</th>\n",
              "      <th>support</th>\n",
              "    </tr>\n",
              "  </thead>\n",
              "  <tbody>\n",
              "    <tr>\n",
              "      <th>0</th>\n",
              "      <td>[22748]</td>\n",
              "      <td>[22745]</td>\n",
              "      <td>0.764136</td>\n",
              "      <td>60.372188</td>\n",
              "      <td>0.010710</td>\n",
              "    </tr>\n",
              "    <tr>\n",
              "      <th>1</th>\n",
              "      <td>[22745]</td>\n",
              "      <td>[22748]</td>\n",
              "      <td>0.846154</td>\n",
              "      <td>60.372188</td>\n",
              "      <td>0.010710</td>\n",
              "    </tr>\n",
              "    <tr>\n",
              "      <th>2</th>\n",
              "      <td>[21086]</td>\n",
              "      <td>[21094]</td>\n",
              "      <td>0.787200</td>\n",
              "      <td>49.880471</td>\n",
              "      <td>0.011140</td>\n",
              "    </tr>\n",
              "    <tr>\n",
              "      <th>3</th>\n",
              "      <td>[21124]</td>\n",
              "      <td>[21122]</td>\n",
              "      <td>0.802326</td>\n",
              "      <td>47.691399</td>\n",
              "      <td>0.010936</td>\n",
              "    </tr>\n",
              "    <tr>\n",
              "      <th>4</th>\n",
              "      <td>[22698, 22699]</td>\n",
              "      <td>[22697]</td>\n",
              "      <td>0.883200</td>\n",
              "      <td>38.851124</td>\n",
              "      <td>0.012499</td>\n",
              "    </tr>\n",
              "    <tr>\n",
              "      <th>5</th>\n",
              "      <td>[22698]</td>\n",
              "      <td>[22697]</td>\n",
              "      <td>0.815461</td>\n",
              "      <td>35.871365</td>\n",
              "      <td>0.014808</td>\n",
              "    </tr>\n",
              "    <tr>\n",
              "      <th>6</th>\n",
              "      <td>[82581]</td>\n",
              "      <td>[82580]</td>\n",
              "      <td>0.754410</td>\n",
              "      <td>35.634767</td>\n",
              "      <td>0.012589</td>\n",
              "    </tr>\n",
              "    <tr>\n",
              "      <th>7</th>\n",
              "      <td>[22698, 22697]</td>\n",
              "      <td>[22699]</td>\n",
              "      <td>0.844037</td>\n",
              "      <td>32.959223</td>\n",
              "      <td>0.012499</td>\n",
              "    </tr>\n",
              "    <tr>\n",
              "      <th>8</th>\n",
              "      <td>[22697, 22423]</td>\n",
              "      <td>[22699]</td>\n",
              "      <td>0.833024</td>\n",
              "      <td>32.529187</td>\n",
              "      <td>0.010166</td>\n",
              "    </tr>\n",
              "    <tr>\n",
              "      <th>9</th>\n",
              "      <td>[22698]</td>\n",
              "      <td>[22699]</td>\n",
              "      <td>0.779302</td>\n",
              "      <td>30.431354</td>\n",
              "      <td>0.014151</td>\n",
              "    </tr>\n",
              "    <tr>\n",
              "      <th>10</th>\n",
              "      <td>[22697]</td>\n",
              "      <td>[22699]</td>\n",
              "      <td>0.770916</td>\n",
              "      <td>30.103908</td>\n",
              "      <td>0.017525</td>\n",
              "    </tr>\n",
              "    <tr>\n",
              "      <th>11</th>\n",
              "      <td>[85099F, 22386]</td>\n",
              "      <td>[85099B]</td>\n",
              "      <td>0.753894</td>\n",
              "      <td>9.959836</td>\n",
              "      <td>0.010959</td>\n",
              "    </tr>\n",
              "  </tbody>\n",
              "</table>\n",
              "</div>\n",
              "      <button class=\"colab-df-convert\" onclick=\"convertToInteractive('df-cde5588f-1488-44c0-8c70-d6e598d6233d')\"\n",
              "              title=\"Convert this dataframe to an interactive table.\"\n",
              "              style=\"display:none;\">\n",
              "        \n",
              "  <svg xmlns=\"http://www.w3.org/2000/svg\" height=\"24px\"viewBox=\"0 0 24 24\"\n",
              "       width=\"24px\">\n",
              "    <path d=\"M0 0h24v24H0V0z\" fill=\"none\"/>\n",
              "    <path d=\"M18.56 5.44l.94 2.06.94-2.06 2.06-.94-2.06-.94-.94-2.06-.94 2.06-2.06.94zm-11 1L8.5 8.5l.94-2.06 2.06-.94-2.06-.94L8.5 2.5l-.94 2.06-2.06.94zm10 10l.94 2.06.94-2.06 2.06-.94-2.06-.94-.94-2.06-.94 2.06-2.06.94z\"/><path d=\"M17.41 7.96l-1.37-1.37c-.4-.4-.92-.59-1.43-.59-.52 0-1.04.2-1.43.59L10.3 9.45l-7.72 7.72c-.78.78-.78 2.05 0 2.83L4 21.41c.39.39.9.59 1.41.59.51 0 1.02-.2 1.41-.59l7.78-7.78 2.81-2.81c.8-.78.8-2.07 0-2.86zM5.41 20L4 18.59l7.72-7.72 1.47 1.35L5.41 20z\"/>\n",
              "  </svg>\n",
              "      </button>\n",
              "      \n",
              "  <style>\n",
              "    .colab-df-container {\n",
              "      display:flex;\n",
              "      flex-wrap:wrap;\n",
              "      gap: 12px;\n",
              "    }\n",
              "\n",
              "    .colab-df-convert {\n",
              "      background-color: #E8F0FE;\n",
              "      border: none;\n",
              "      border-radius: 50%;\n",
              "      cursor: pointer;\n",
              "      display: none;\n",
              "      fill: #1967D2;\n",
              "      height: 32px;\n",
              "      padding: 0 0 0 0;\n",
              "      width: 32px;\n",
              "    }\n",
              "\n",
              "    .colab-df-convert:hover {\n",
              "      background-color: #E2EBFA;\n",
              "      box-shadow: 0px 1px 2px rgba(60, 64, 67, 0.3), 0px 1px 3px 1px rgba(60, 64, 67, 0.15);\n",
              "      fill: #174EA6;\n",
              "    }\n",
              "\n",
              "    [theme=dark] .colab-df-convert {\n",
              "      background-color: #3B4455;\n",
              "      fill: #D2E3FC;\n",
              "    }\n",
              "\n",
              "    [theme=dark] .colab-df-convert:hover {\n",
              "      background-color: #434B5C;\n",
              "      box-shadow: 0px 1px 3px 1px rgba(0, 0, 0, 0.15);\n",
              "      filter: drop-shadow(0px 1px 2px rgba(0, 0, 0, 0.3));\n",
              "      fill: #FFFFFF;\n",
              "    }\n",
              "  </style>\n",
              "\n",
              "      <script>\n",
              "        const buttonEl =\n",
              "          document.querySelector('#df-cde5588f-1488-44c0-8c70-d6e598d6233d button.colab-df-convert');\n",
              "        buttonEl.style.display =\n",
              "          google.colab.kernel.accessAllowed ? 'block' : 'none';\n",
              "\n",
              "        async function convertToInteractive(key) {\n",
              "          const element = document.querySelector('#df-cde5588f-1488-44c0-8c70-d6e598d6233d');\n",
              "          const dataTable =\n",
              "            await google.colab.kernel.invokeFunction('convertToInteractive',\n",
              "                                                     [key], {});\n",
              "          if (!dataTable) return;\n",
              "\n",
              "          const docLinkHtml = 'Like what you see? Visit the ' +\n",
              "            '<a target=\"_blank\" href=https://colab.research.google.com/notebooks/data_table.ipynb>data table notebook</a>'\n",
              "            + ' to learn more about interactive tables.';\n",
              "          element.innerHTML = '';\n",
              "          dataTable['output_type'] = 'display_data';\n",
              "          await google.colab.output.renderOutput(dataTable, element);\n",
              "          const docLink = document.createElement('div');\n",
              "          docLink.innerHTML = docLinkHtml;\n",
              "          element.appendChild(docLink);\n",
              "        }\n",
              "      </script>\n",
              "    </div>\n",
              "  </div>\n",
              "  "
            ]
          },
          "metadata": {},
          "execution_count": 159
        }
      ]
    },
    {
      "cell_type": "code",
      "source": [
        "df_stock_descr = df[[\"StockCode\", \"Description\"]].drop_duplicates(subset=['StockCode'])\n",
        "stock_list = df_stock_descr.StockCode.tolist()\n",
        "descr_list = df_stock_descr.Description.tolist()\n",
        "stock_descr = dict(zip(stock_list, descr_list))\n",
        "\n",
        "def stock_code_to_description(list):\n",
        "  descriptions = []\n",
        "  for i in list:\n",
        "    descriptions.append(stock_descr[str(i)])\n",
        "\n",
        "  return descriptions"
      ],
      "metadata": {
        "id": "7SR7Tqk3jy5e"
      },
      "execution_count": 160,
      "outputs": []
    },
    {
      "cell_type": "code",
      "source": [
        "rules_pd[\"antecedent_description\"] = rules_pd[\"antecedent\"].map(lambda x: stock_code_to_description(x))\n",
        "rules_pd[\"consequent_description\"] = rules_pd[\"consequent\"].map(lambda x: stock_code_to_description(x))\n",
        "rules_pd\n"
      ],
      "metadata": {
        "colab": {
          "base_uri": "https://localhost:8080/",
          "height": 740
        },
        "id": "2Ey8Ie6Cl0xx",
        "outputId": "24b1c308-d0a7-4b1b-baf9-0affe1240604"
      },
      "execution_count": 161,
      "outputs": [
        {
          "output_type": "execute_result",
          "data": {
            "text/plain": [
              "         antecedent consequent  confidence       lift   support  \\\n",
              "0           [22748]    [22745]    0.764136  60.372188  0.010710   \n",
              "1           [22745]    [22748]    0.846154  60.372188  0.010710   \n",
              "2           [21086]    [21094]    0.787200  49.880471  0.011140   \n",
              "3           [21124]    [21122]    0.802326  47.691399  0.010936   \n",
              "4    [22698, 22699]    [22697]    0.883200  38.851124  0.012499   \n",
              "5           [22698]    [22697]    0.815461  35.871365  0.014808   \n",
              "6           [82581]    [82580]    0.754410  35.634767  0.012589   \n",
              "7    [22698, 22697]    [22699]    0.844037  32.959223  0.012499   \n",
              "8    [22697, 22423]    [22699]    0.833024  32.529187  0.010166   \n",
              "9           [22698]    [22699]    0.779302  30.431354  0.014151   \n",
              "10          [22697]    [22699]    0.770916  30.103908  0.017525   \n",
              "11  [85099F, 22386]   [85099B]    0.753894   9.959836  0.010959   \n",
              "\n",
              "                               antecedent_description  \\\n",
              "0                         [POPPY'S PLAYHOUSE KITCHEN]   \n",
              "1                        [POPPY'S PLAYHOUSE BEDROOM ]   \n",
              "2                       [SET/6 RED SPOTTY PAPER CUPS]   \n",
              "3                  [SET/10 BLUE SPOTTY PARTY CANDLES]   \n",
              "4   [PINK REGENCY TEACUP AND SAUCER, ROSES REGENCY...   \n",
              "5                    [PINK REGENCY TEACUP AND SAUCER]   \n",
              "6                                 [TOILET METAL SIGN]   \n",
              "7   [PINK REGENCY TEACUP AND SAUCER, GREEN REGENCY...   \n",
              "8   [GREEN REGENCY TEACUP AND SAUCER, REGENCY CAKE...   \n",
              "9                    [PINK REGENCY TEACUP AND SAUCER]   \n",
              "10                  [GREEN REGENCY TEACUP AND SAUCER]   \n",
              "11  [JUMBO BAG STRAWBERRY, JUMBO BAG PINK WITH WHI...   \n",
              "\n",
              "                consequent_description  \n",
              "0         [POPPY'S PLAYHOUSE BEDROOM ]  \n",
              "1          [POPPY'S PLAYHOUSE KITCHEN]  \n",
              "2      [SET/6 RED SPOTTY PAPER PLATES]  \n",
              "3   [SET/10 PINK SPOTTY PARTY CANDLES]  \n",
              "4    [GREEN REGENCY TEACUP AND SAUCER]  \n",
              "5    [GREEN REGENCY TEACUP AND SAUCER]  \n",
              "6                [BATHROOM METAL SIGN]  \n",
              "7   [ROSES REGENCY TEACUP AND SAUCER ]  \n",
              "8   [ROSES REGENCY TEACUP AND SAUCER ]  \n",
              "9   [ROSES REGENCY TEACUP AND SAUCER ]  \n",
              "10  [ROSES REGENCY TEACUP AND SAUCER ]  \n",
              "11       [JUMBO BAG RED WHITE SPOTTY ]  "
            ],
            "text/html": [
              "\n",
              "  <div id=\"df-eb913161-9709-483d-85ef-b651ad3f3bc5\">\n",
              "    <div class=\"colab-df-container\">\n",
              "      <div>\n",
              "<style scoped>\n",
              "    .dataframe tbody tr th:only-of-type {\n",
              "        vertical-align: middle;\n",
              "    }\n",
              "\n",
              "    .dataframe tbody tr th {\n",
              "        vertical-align: top;\n",
              "    }\n",
              "\n",
              "    .dataframe thead th {\n",
              "        text-align: right;\n",
              "    }\n",
              "</style>\n",
              "<table border=\"1\" class=\"dataframe\">\n",
              "  <thead>\n",
              "    <tr style=\"text-align: right;\">\n",
              "      <th></th>\n",
              "      <th>antecedent</th>\n",
              "      <th>consequent</th>\n",
              "      <th>confidence</th>\n",
              "      <th>lift</th>\n",
              "      <th>support</th>\n",
              "      <th>antecedent_description</th>\n",
              "      <th>consequent_description</th>\n",
              "    </tr>\n",
              "  </thead>\n",
              "  <tbody>\n",
              "    <tr>\n",
              "      <th>0</th>\n",
              "      <td>[22748]</td>\n",
              "      <td>[22745]</td>\n",
              "      <td>0.764136</td>\n",
              "      <td>60.372188</td>\n",
              "      <td>0.010710</td>\n",
              "      <td>[POPPY'S PLAYHOUSE KITCHEN]</td>\n",
              "      <td>[POPPY'S PLAYHOUSE BEDROOM ]</td>\n",
              "    </tr>\n",
              "    <tr>\n",
              "      <th>1</th>\n",
              "      <td>[22745]</td>\n",
              "      <td>[22748]</td>\n",
              "      <td>0.846154</td>\n",
              "      <td>60.372188</td>\n",
              "      <td>0.010710</td>\n",
              "      <td>[POPPY'S PLAYHOUSE BEDROOM ]</td>\n",
              "      <td>[POPPY'S PLAYHOUSE KITCHEN]</td>\n",
              "    </tr>\n",
              "    <tr>\n",
              "      <th>2</th>\n",
              "      <td>[21086]</td>\n",
              "      <td>[21094]</td>\n",
              "      <td>0.787200</td>\n",
              "      <td>49.880471</td>\n",
              "      <td>0.011140</td>\n",
              "      <td>[SET/6 RED SPOTTY PAPER CUPS]</td>\n",
              "      <td>[SET/6 RED SPOTTY PAPER PLATES]</td>\n",
              "    </tr>\n",
              "    <tr>\n",
              "      <th>3</th>\n",
              "      <td>[21124]</td>\n",
              "      <td>[21122]</td>\n",
              "      <td>0.802326</td>\n",
              "      <td>47.691399</td>\n",
              "      <td>0.010936</td>\n",
              "      <td>[SET/10 BLUE SPOTTY PARTY CANDLES]</td>\n",
              "      <td>[SET/10 PINK SPOTTY PARTY CANDLES]</td>\n",
              "    </tr>\n",
              "    <tr>\n",
              "      <th>4</th>\n",
              "      <td>[22698, 22699]</td>\n",
              "      <td>[22697]</td>\n",
              "      <td>0.883200</td>\n",
              "      <td>38.851124</td>\n",
              "      <td>0.012499</td>\n",
              "      <td>[PINK REGENCY TEACUP AND SAUCER, ROSES REGENCY...</td>\n",
              "      <td>[GREEN REGENCY TEACUP AND SAUCER]</td>\n",
              "    </tr>\n",
              "    <tr>\n",
              "      <th>5</th>\n",
              "      <td>[22698]</td>\n",
              "      <td>[22697]</td>\n",
              "      <td>0.815461</td>\n",
              "      <td>35.871365</td>\n",
              "      <td>0.014808</td>\n",
              "      <td>[PINK REGENCY TEACUP AND SAUCER]</td>\n",
              "      <td>[GREEN REGENCY TEACUP AND SAUCER]</td>\n",
              "    </tr>\n",
              "    <tr>\n",
              "      <th>6</th>\n",
              "      <td>[82581]</td>\n",
              "      <td>[82580]</td>\n",
              "      <td>0.754410</td>\n",
              "      <td>35.634767</td>\n",
              "      <td>0.012589</td>\n",
              "      <td>[TOILET METAL SIGN]</td>\n",
              "      <td>[BATHROOM METAL SIGN]</td>\n",
              "    </tr>\n",
              "    <tr>\n",
              "      <th>7</th>\n",
              "      <td>[22698, 22697]</td>\n",
              "      <td>[22699]</td>\n",
              "      <td>0.844037</td>\n",
              "      <td>32.959223</td>\n",
              "      <td>0.012499</td>\n",
              "      <td>[PINK REGENCY TEACUP AND SAUCER, GREEN REGENCY...</td>\n",
              "      <td>[ROSES REGENCY TEACUP AND SAUCER ]</td>\n",
              "    </tr>\n",
              "    <tr>\n",
              "      <th>8</th>\n",
              "      <td>[22697, 22423]</td>\n",
              "      <td>[22699]</td>\n",
              "      <td>0.833024</td>\n",
              "      <td>32.529187</td>\n",
              "      <td>0.010166</td>\n",
              "      <td>[GREEN REGENCY TEACUP AND SAUCER, REGENCY CAKE...</td>\n",
              "      <td>[ROSES REGENCY TEACUP AND SAUCER ]</td>\n",
              "    </tr>\n",
              "    <tr>\n",
              "      <th>9</th>\n",
              "      <td>[22698]</td>\n",
              "      <td>[22699]</td>\n",
              "      <td>0.779302</td>\n",
              "      <td>30.431354</td>\n",
              "      <td>0.014151</td>\n",
              "      <td>[PINK REGENCY TEACUP AND SAUCER]</td>\n",
              "      <td>[ROSES REGENCY TEACUP AND SAUCER ]</td>\n",
              "    </tr>\n",
              "    <tr>\n",
              "      <th>10</th>\n",
              "      <td>[22697]</td>\n",
              "      <td>[22699]</td>\n",
              "      <td>0.770916</td>\n",
              "      <td>30.103908</td>\n",
              "      <td>0.017525</td>\n",
              "      <td>[GREEN REGENCY TEACUP AND SAUCER]</td>\n",
              "      <td>[ROSES REGENCY TEACUP AND SAUCER ]</td>\n",
              "    </tr>\n",
              "    <tr>\n",
              "      <th>11</th>\n",
              "      <td>[85099F, 22386]</td>\n",
              "      <td>[85099B]</td>\n",
              "      <td>0.753894</td>\n",
              "      <td>9.959836</td>\n",
              "      <td>0.010959</td>\n",
              "      <td>[JUMBO BAG STRAWBERRY, JUMBO BAG PINK WITH WHI...</td>\n",
              "      <td>[JUMBO BAG RED WHITE SPOTTY ]</td>\n",
              "    </tr>\n",
              "  </tbody>\n",
              "</table>\n",
              "</div>\n",
              "      <button class=\"colab-df-convert\" onclick=\"convertToInteractive('df-eb913161-9709-483d-85ef-b651ad3f3bc5')\"\n",
              "              title=\"Convert this dataframe to an interactive table.\"\n",
              "              style=\"display:none;\">\n",
              "        \n",
              "  <svg xmlns=\"http://www.w3.org/2000/svg\" height=\"24px\"viewBox=\"0 0 24 24\"\n",
              "       width=\"24px\">\n",
              "    <path d=\"M0 0h24v24H0V0z\" fill=\"none\"/>\n",
              "    <path d=\"M18.56 5.44l.94 2.06.94-2.06 2.06-.94-2.06-.94-.94-2.06-.94 2.06-2.06.94zm-11 1L8.5 8.5l.94-2.06 2.06-.94-2.06-.94L8.5 2.5l-.94 2.06-2.06.94zm10 10l.94 2.06.94-2.06 2.06-.94-2.06-.94-.94-2.06-.94 2.06-2.06.94z\"/><path d=\"M17.41 7.96l-1.37-1.37c-.4-.4-.92-.59-1.43-.59-.52 0-1.04.2-1.43.59L10.3 9.45l-7.72 7.72c-.78.78-.78 2.05 0 2.83L4 21.41c.39.39.9.59 1.41.59.51 0 1.02-.2 1.41-.59l7.78-7.78 2.81-2.81c.8-.78.8-2.07 0-2.86zM5.41 20L4 18.59l7.72-7.72 1.47 1.35L5.41 20z\"/>\n",
              "  </svg>\n",
              "      </button>\n",
              "      \n",
              "  <style>\n",
              "    .colab-df-container {\n",
              "      display:flex;\n",
              "      flex-wrap:wrap;\n",
              "      gap: 12px;\n",
              "    }\n",
              "\n",
              "    .colab-df-convert {\n",
              "      background-color: #E8F0FE;\n",
              "      border: none;\n",
              "      border-radius: 50%;\n",
              "      cursor: pointer;\n",
              "      display: none;\n",
              "      fill: #1967D2;\n",
              "      height: 32px;\n",
              "      padding: 0 0 0 0;\n",
              "      width: 32px;\n",
              "    }\n",
              "\n",
              "    .colab-df-convert:hover {\n",
              "      background-color: #E2EBFA;\n",
              "      box-shadow: 0px 1px 2px rgba(60, 64, 67, 0.3), 0px 1px 3px 1px rgba(60, 64, 67, 0.15);\n",
              "      fill: #174EA6;\n",
              "    }\n",
              "\n",
              "    [theme=dark] .colab-df-convert {\n",
              "      background-color: #3B4455;\n",
              "      fill: #D2E3FC;\n",
              "    }\n",
              "\n",
              "    [theme=dark] .colab-df-convert:hover {\n",
              "      background-color: #434B5C;\n",
              "      box-shadow: 0px 1px 3px 1px rgba(0, 0, 0, 0.15);\n",
              "      filter: drop-shadow(0px 1px 2px rgba(0, 0, 0, 0.3));\n",
              "      fill: #FFFFFF;\n",
              "    }\n",
              "  </style>\n",
              "\n",
              "      <script>\n",
              "        const buttonEl =\n",
              "          document.querySelector('#df-eb913161-9709-483d-85ef-b651ad3f3bc5 button.colab-df-convert');\n",
              "        buttonEl.style.display =\n",
              "          google.colab.kernel.accessAllowed ? 'block' : 'none';\n",
              "\n",
              "        async function convertToInteractive(key) {\n",
              "          const element = document.querySelector('#df-eb913161-9709-483d-85ef-b651ad3f3bc5');\n",
              "          const dataTable =\n",
              "            await google.colab.kernel.invokeFunction('convertToInteractive',\n",
              "                                                     [key], {});\n",
              "          if (!dataTable) return;\n",
              "\n",
              "          const docLinkHtml = 'Like what you see? Visit the ' +\n",
              "            '<a target=\"_blank\" href=https://colab.research.google.com/notebooks/data_table.ipynb>data table notebook</a>'\n",
              "            + ' to learn more about interactive tables.';\n",
              "          element.innerHTML = '';\n",
              "          dataTable['output_type'] = 'display_data';\n",
              "          await google.colab.output.renderOutput(dataTable, element);\n",
              "          const docLink = document.createElement('div');\n",
              "          docLink.innerHTML = docLinkHtml;\n",
              "          element.appendChild(docLink);\n",
              "        }\n",
              "      </script>\n",
              "    </div>\n",
              "  </div>\n",
              "  "
            ]
          },
          "metadata": {},
          "execution_count": 161
        }
      ]
    }
  ]
}